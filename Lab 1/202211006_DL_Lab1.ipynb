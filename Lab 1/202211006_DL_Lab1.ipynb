{
 "cells": [
  {
   "cell_type": "markdown",
   "id": "e5a87ad0",
   "metadata": {},
   "source": [
    "# Deep Learning Lab Assignment-1 "
   ]
  },
  {
   "cell_type": "markdown",
   "id": "52541525",
   "metadata": {},
   "source": [
    "### Name: Bagwe Sarvesh                                  ||                                                       Student ID: 202211006"
   ]
  },
  {
   "cell_type": "markdown",
   "id": "5d49cc86",
   "metadata": {},
   "source": [
    "# Importing Useful Libraries for the tasks"
   ]
  },
  {
   "cell_type": "code",
   "execution_count": 1,
   "id": "fa3773bb",
   "metadata": {},
   "outputs": [],
   "source": [
    "import numpy as np\n",
    "import pandas as pd\n",
    "import numpy as np\n",
    "from sklearn.preprocessing import StandardScaler\n",
    "import matplotlib.pyplot as plt\n",
    "import math\n",
    "from sklearn.preprocessing import LabelEncoder"
   ]
  },
  {
   "cell_type": "markdown",
   "id": "2e477d5f",
   "metadata": {},
   "source": [
    "# Creating Classes for Regression and Classification"
   ]
  },
  {
   "cell_type": "markdown",
   "id": "5537265b",
   "metadata": {},
   "source": [
    "### Multiple Linear Regression (implemented using Class)"
   ]
  },
  {
   "cell_type": "code",
   "execution_count": 2,
   "id": "5db955e5",
   "metadata": {},
   "outputs": [],
   "source": [
    "class Multiple_Linear_Regression:\n",
    "    \n",
    "    # Initialization\n",
    "    def __init__(self,x,y,step_size = 0.001,iterations = 10):\n",
    "        \n",
    "        # saving parameters on each iterations (particular for this dataset)\n",
    "        self.w1=[]\n",
    "        self.w2=[]\n",
    "        self.b=[]\n",
    "        \n",
    "        # Finding no of features in the dataset\n",
    "        a=x.shape\n",
    "        a=int(a[1])\n",
    "        \n",
    "        # standardizing the inputs and outputs for better convergence \n",
    "        self.scalersx = StandardScaler()  \n",
    "        self.scalersy= StandardScaler()\n",
    "        \n",
    "        # Input Features\n",
    "        x=np.array(x)  \n",
    "        self.x =x\n",
    "        self.x =self.scalersx.fit_transform(self.x)\n",
    "        self.x=np.c_[self.x, np.ones(len(x))]\n",
    "        \n",
    "        # Output Features\n",
    "        y= np.array(y)\n",
    "        y= y.reshape([len(x),1])\n",
    "        self.y =y\n",
    "        self.y=self.scalersy.fit_transform(self.y)\n",
    "        \n",
    "        # Initializing Weights \n",
    "        self.w = np.ones(a+1)\n",
    "        self.w = self.w.reshape([a+1,1])\n",
    "        \n",
    "        # Step size and number of iterations (epochs)\n",
    "        self.delta = step_size\n",
    "        self.iterations = iterations\n",
    "        \n",
    "        # storing cost for every iteration\n",
    "        self.cost=[]\n",
    "    \n",
    "    # function to calculate gradient \n",
    "    def gradient(self): \n",
    "        temp = np.dot(self.x,self.w) - self.y\n",
    "        xx=np.transpose(self.x)\n",
    "        grad =np.dot(xx,temp)\n",
    "        grad = grad/len(self.x)\n",
    "        return grad\n",
    "    \n",
    "    def gradient_descent(self):\n",
    "        \n",
    "        # Iteration Counter \n",
    "        iters=0\n",
    "        while iters<=self.iterations:  # Terminating Condition\n",
    "            \n",
    "            grad = self.gradient()\n",
    "            \n",
    "            # Updating weights (includes bias term)\n",
    "            self.w = self.w - (self.delta*grad) \n",
    "            self.w1.append(self.w[1][0])\n",
    "            self.w2.append(self.w[0][0])\n",
    "            self.b.append(self.w[2][0])\n",
    "            # Cost at every iteration\n",
    "            cst = np.sum((((self.x.dot(self.w)) - self.y) ** 2) / (2*len(self.y)))\n",
    "            self.cost.append(cst)\n",
    "            iters+=1\n",
    "        \n",
    "        print(f\"Training Completed with learning rate: {self.delta}\")\n",
    "    \n",
    "    # function to predict on the new data\n",
    "    def predict(self,X):\n",
    "        # Transforming the test data for prediction \n",
    "        X=np.array(X)\n",
    "        X=self.scalersx.transform(X)\n",
    "        X=np.c_[X, np.ones(len(X))]\n",
    "        \n",
    "        # Ouptut\n",
    "        pred = np.matmul(X,self.w)\n",
    "        pred = self.scalersy.inverse_transform(pred) \n",
    "        return pred \n",
    "    \n",
    "    # Plots the value of weights over iterations\n",
    "    def cost_plot(self):\n",
    "        plt.plot(self.w1)\n",
    "        plt.plot(self.w2)\n",
    "        plt.plot(self.cost)\n",
    "        plt.legend([\"'$\\\\theta_{1}$'\",\"'$\\\\theta_{2}$'\",\"Loss function\"])\n",
    "        plt.title('Values of $\\\\theta$ and $J(\\\\theta)$ over iterations')\n",
    "        plt.xlabel(\"Number of iterations\")\n",
    "        plt.ylabel(\"'$\\\\theta$' and cost\")\n",
    "        plt.show()\n",
    "    \n",
    "    # Plotting Contours\n",
    "    def params(self):\n",
    "        return self.cost\n",
    "    \n",
    "    def compute_cost(self,X, y, theta):\n",
    "        m = len(y)\n",
    "        J=0\n",
    "        theta=theta.reshape(3,1)\n",
    "        h_x = np.dot(X,theta)\n",
    "        error_term = sum((h_x - y)**2)\n",
    "        loss = error_term/(2*m)\n",
    "       \n",
    "        return loss\n",
    "    \n",
    "    # For plotting Contour plot\n",
    "    def contours(self):\n",
    "        \n",
    "        # taking sample value of weights nearby our actual convergence point\n",
    "        theta2 = np.linspace(-1,2,400)\n",
    "        theta1 = np.linspace(-1,2,400)\n",
    "        \n",
    "        #Cost Values for each set of weights \n",
    "        J_vals = np.zeros((len(theta2), len(theta1))) \n",
    "        \n",
    "        for i in range(len(theta2)):\n",
    "            for j in range(len(theta1)):\n",
    "                t = np.array([theta2[i], theta1[j],self.b[10]])\n",
    "                J_vals[i][j] = self.compute_cost(self.x, self.y, t).tolist()[0]\n",
    "        \n",
    "        # Plotting Contours\n",
    "        plt.contourf(theta2, theta1, J_vals)\n",
    "        plt.plot(self.w1,self.w2,\"r+\")\n",
    "        plt.xlabel(\"feature 1 weights\")\n",
    "        plt.ylabel(\"feature 2 weights\")\n",
    "        plt.title(\"Contour Plot of weights\")\n",
    "        \n",
    "    # Returns all the learnt parameters   \n",
    "    def get_parameters(self):\n",
    "        return self.x,self.y,self.w1,self.w2,self.b,self.w,self.cost\n",
    "        "
   ]
  },
  {
   "cell_type": "markdown",
   "id": "1e7432c7",
   "metadata": {},
   "source": [
    "### Logistic Regression (implemented using Class)"
   ]
  },
  {
   "cell_type": "code",
   "execution_count": 3,
   "id": "0da89d26",
   "metadata": {},
   "outputs": [],
   "source": [
    "class Logistic_Regression:\n",
    "    \n",
    "    def __init__(self,X,y,iters,step_size=0.01):\n",
    "        \n",
    "        # Normalizing input data\n",
    "        self.scaler = StandardScaler()\n",
    "        X=self.scaler.fit_transform(X)\n",
    "        self.X= X\n",
    "        \n",
    "        m,n=X.shape\n",
    "        self.m=m\n",
    "        \n",
    "        y=np.array(y)\n",
    "        y=y.reshape(m,1)\n",
    "        self.y= y\n",
    "        \n",
    "        # Initializing Weights and Bias \n",
    "        self.w= np.zeros((n,1))\n",
    "        self.b= 0 \n",
    "        self.w1=[]\n",
    "        self.w2=[]\n",
    "        # storing loss at every iteration \n",
    "        self.loss=[]\n",
    "        self.iters=iters\n",
    "        \n",
    "        # Learning Rate\n",
    "        self.lr =step_size\n",
    "    \n",
    "    # Mathematical Sigmoid function\n",
    "    def sigmoid(self,z):\n",
    "        return 1.0/(1 + np.exp(-z))\n",
    "    \n",
    "    # Gradient Descent optimization for Logistic Regression\n",
    "    \n",
    "    def gradient_descent(self):\n",
    "        for i in range(self.iters):\n",
    "            \n",
    "            y_hat = self.sigmoid(np.dot(self.X,self.w)+self.b)\n",
    "            \n",
    "            # Calculating gradients\n",
    "            dw = (1/self.m)*np.dot(self.X.T, (y_hat - self.y))\n",
    "            db = (1/self.m)*np.sum((y_hat - self.y))\n",
    "            \n",
    "            # parameter update\n",
    "            self.w -= self.lr*dw\n",
    "            self.b -= self.lr*db\n",
    "            \n",
    "            self.w1.append(self.w[0][0])\n",
    "            self.w2.append(self.w[1][0])\n",
    "            # calculating and storing loss at every iteration \n",
    "            ls = -np.mean(self.y*(np.log(y_hat)) - (1-self.y)*np.log(1-y_hat))\n",
    "            self.loss.append(ls)\n",
    "        \n",
    "    \n",
    "    # function to predict on given data\n",
    "    def predict(self,X,threshold=0.5):\n",
    "        X= self.scaler.transform(X)\n",
    "        pred = self.sigmoid(np.dot(X,self.w)+self.b)\n",
    "        predictions=[]\n",
    "        predictions=[1 if i > threshold else 0 for i in pred]\n",
    "        \n",
    "        return np.array(predictions)\n",
    "    \n",
    "    # Classification Visualization\n",
    "    def plot_boundary(self):\n",
    "        X=self.X\n",
    "        w= self.w\n",
    "        b= self.b\n",
    "        \n",
    "        x1 = [min(X[:,0]), max(X[:,0])]\n",
    "        m = -w[0]/w[1]\n",
    "        c = -b/w[1]\n",
    "        x2 = m*x1 + c\n",
    "    \n",
    "        # Plotting\n",
    "        fig = plt.figure(figsize=(10,8))\n",
    "        plt.plot(X[:, 0][y==0], X[:, 1][y==0], \"g^\")\n",
    "        plt.plot(X[:, 0][y==1], X[:, 1][y==1], \"bs\")\n",
    "        plt.xlabel(\"feature 1\")\n",
    "        plt.ylabel(\"feature 2\")\n",
    "        plt.title('Decision Boundary')\n",
    "        plt.plot(x1, x2, 'y-')\n",
    "        plt.legend([\"Class 0\",\"Class 1\",\"Decision Boundary\"])\n",
    "    \n",
    "    def compute_cost(self,x,y,t):\n",
    "        \n",
    "        t = t.reshape(2,1)\n",
    "        h_x = np.dot(x,t)\n",
    "        y_hat = self.sigmoid(h_x)\n",
    "        m=len(y)\n",
    "        error =  sum(y*(np.log(y_hat)) - (1-y)*np.log(1-y_hat))\n",
    "        loss = error/m\n",
    "        \n",
    "        return loss\n",
    "    \n",
    "# Function to plot Contours\n",
    "    def contours(self):\n",
    "        \n",
    "        # taking sample value of weights nearby our actual convergence point\n",
    "        theta2 = np.linspace(0,2,400)\n",
    "        theta1 = np.linspace(0,2,400)\n",
    "        \n",
    "        #Cost Values for each set of weights \n",
    "        J_vals = np.zeros((len(theta2), len(theta1))) \n",
    "        \n",
    "        for i in range(len(theta2)):\n",
    "            for j in range(len(theta1)):\n",
    "                t = np.array([theta2[i], theta1[j]])\n",
    "                J_vals[i][j] = self.compute_cost(self.X, self.y, t).tolist()[0]\n",
    "        \n",
    "        # Plotting Contours\n",
    "        plt.contourf(theta1, theta2, J_vals)\n",
    "        plt.plot(self.w2,self.w1,\"r+\")\n",
    "        plt.xlabel(\"feature 1 weights\")\n",
    "        plt.ylabel(\"feature 2 weights\")\n",
    "        plt.title(\"Contour Plot of weights\")\n",
    "        plt.xlim([0,1.5])\n",
    "        plt.ylim([0,2])\n",
    "    def get_params(self):\n",
    "        return self.x,self.y,self.w1,self.w2,self.b,self.w,self.loss"
   ]
  },
  {
   "cell_type": "markdown",
   "id": "5e4e7187",
   "metadata": {},
   "source": [
    "## Some other functions"
   ]
  },
  {
   "cell_type": "code",
   "execution_count": 4,
   "id": "31631e3f",
   "metadata": {},
   "outputs": [],
   "source": [
    "# Root Mean Square Error\n",
    "def RMSE(y_pred,y_true):\n",
    "    y_true= np.array(y_true)\n",
    "    y_true= y_true.reshape([len(y_pred),1])\n",
    "    MSE=np.square(np.subtract(y_true,y_pred)).mean()\n",
    "    RMSE= math.sqrt(MSE) \n",
    "    return RMSE\n",
    "\n",
    "\n",
    "# Classification Metrics \n",
    "def compute_metrics(y_act, y_pred):\n",
    "    '''\n",
    "    True positive - actual = 1, predicted = 1\n",
    "    False positive - actual = 1, predicted = 0\n",
    "    False negative - actual = 0, predicted = 1\n",
    "    True negative - actual = 0, predicted = 0\n",
    "    '''\n",
    "    tp = sum((y_act == 1) & (y_pred == 1))\n",
    "    tn = sum((y_act == 0) & (y_pred == 0))\n",
    "    fn = sum((y_act == 1) & (y_pred == 0))\n",
    "    fp = sum((y_act == 0) & (y_pred == 1))\n",
    "    \n",
    "    Accuracy= ((tp + tn) * 100)/ float( tp + tn + fn + fp)\n",
    "    Precision= (tp  * 100)/ float( tp + fp)\n",
    "    Recall = (tp  * 100)/ float( tp + fn)\n",
    "    f1_score = (2*Precision*Recall)/ (Precision + Recall)\n",
    "    \n",
    "    print(f\"Accuracy of the model: {Accuracy}\")\n",
    "    print(f\"Precision of the model: {Precision}\")\n",
    "    print(f\"Recall of the model: {Recall}\")\n",
    "    print(f\"F1 Score of the model: {f1_score}\")\n",
    "\n",
    "    "
   ]
  },
  {
   "cell_type": "markdown",
   "id": "ef11099c",
   "metadata": {},
   "source": [
    "# Working with datasets "
   ]
  },
  {
   "cell_type": "markdown",
   "id": "127bdac8",
   "metadata": {},
   "source": [
    "#  Dataset: 50_startups  "
   ]
  },
  {
   "cell_type": "code",
   "execution_count": 5,
   "id": "fa2eb6ef",
   "metadata": {},
   "outputs": [
    {
     "data": {
      "text/html": [
       "<div>\n",
       "<style scoped>\n",
       "    .dataframe tbody tr th:only-of-type {\n",
       "        vertical-align: middle;\n",
       "    }\n",
       "\n",
       "    .dataframe tbody tr th {\n",
       "        vertical-align: top;\n",
       "    }\n",
       "\n",
       "    .dataframe thead th {\n",
       "        text-align: right;\n",
       "    }\n",
       "</style>\n",
       "<table border=\"1\" class=\"dataframe\">\n",
       "  <thead>\n",
       "    <tr style=\"text-align: right;\">\n",
       "      <th></th>\n",
       "      <th>R&amp;D Spend</th>\n",
       "      <th>Administration</th>\n",
       "      <th>Marketing Spend</th>\n",
       "      <th>State</th>\n",
       "      <th>Profit</th>\n",
       "    </tr>\n",
       "  </thead>\n",
       "  <tbody>\n",
       "    <tr>\n",
       "      <th>0</th>\n",
       "      <td>165349.20</td>\n",
       "      <td>136897.80</td>\n",
       "      <td>471784.10</td>\n",
       "      <td>New York</td>\n",
       "      <td>192261.83</td>\n",
       "    </tr>\n",
       "    <tr>\n",
       "      <th>1</th>\n",
       "      <td>162597.70</td>\n",
       "      <td>151377.59</td>\n",
       "      <td>443898.53</td>\n",
       "      <td>California</td>\n",
       "      <td>191792.06</td>\n",
       "    </tr>\n",
       "    <tr>\n",
       "      <th>2</th>\n",
       "      <td>153441.51</td>\n",
       "      <td>101145.55</td>\n",
       "      <td>407934.54</td>\n",
       "      <td>Florida</td>\n",
       "      <td>191050.39</td>\n",
       "    </tr>\n",
       "    <tr>\n",
       "      <th>3</th>\n",
       "      <td>144372.41</td>\n",
       "      <td>118671.85</td>\n",
       "      <td>383199.62</td>\n",
       "      <td>New York</td>\n",
       "      <td>182901.99</td>\n",
       "    </tr>\n",
       "    <tr>\n",
       "      <th>4</th>\n",
       "      <td>142107.34</td>\n",
       "      <td>91391.77</td>\n",
       "      <td>366168.42</td>\n",
       "      <td>Florida</td>\n",
       "      <td>166187.94</td>\n",
       "    </tr>\n",
       "  </tbody>\n",
       "</table>\n",
       "</div>"
      ],
      "text/plain": [
       "   R&D Spend  Administration  Marketing Spend       State     Profit\n",
       "0  165349.20       136897.80        471784.10    New York  192261.83\n",
       "1  162597.70       151377.59        443898.53  California  191792.06\n",
       "2  153441.51       101145.55        407934.54     Florida  191050.39\n",
       "3  144372.41       118671.85        383199.62    New York  182901.99\n",
       "4  142107.34        91391.77        366168.42     Florida  166187.94"
      ]
     },
     "execution_count": 5,
     "metadata": {},
     "output_type": "execute_result"
    }
   ],
   "source": [
    "df50 = pd.read_csv(\"50_Startups.csv\")\n",
    "df50.head()"
   ]
  },
  {
   "cell_type": "code",
   "execution_count": 6,
   "id": "3d50094c",
   "metadata": {},
   "outputs": [
    {
     "data": {
      "text/html": [
       "<div>\n",
       "<style scoped>\n",
       "    .dataframe tbody tr th:only-of-type {\n",
       "        vertical-align: middle;\n",
       "    }\n",
       "\n",
       "    .dataframe tbody tr th {\n",
       "        vertical-align: top;\n",
       "    }\n",
       "\n",
       "    .dataframe thead th {\n",
       "        text-align: right;\n",
       "    }\n",
       "</style>\n",
       "<table border=\"1\" class=\"dataframe\">\n",
       "  <thead>\n",
       "    <tr style=\"text-align: right;\">\n",
       "      <th></th>\n",
       "      <th>R&amp;D Spend</th>\n",
       "      <th>Administration</th>\n",
       "      <th>Marketing Spend</th>\n",
       "      <th>Profit</th>\n",
       "    </tr>\n",
       "  </thead>\n",
       "  <tbody>\n",
       "    <tr>\n",
       "      <th>R&amp;D Spend</th>\n",
       "      <td>1.000000</td>\n",
       "      <td>0.241955</td>\n",
       "      <td>0.724248</td>\n",
       "      <td>0.972900</td>\n",
       "    </tr>\n",
       "    <tr>\n",
       "      <th>Administration</th>\n",
       "      <td>0.241955</td>\n",
       "      <td>1.000000</td>\n",
       "      <td>-0.032154</td>\n",
       "      <td>0.200717</td>\n",
       "    </tr>\n",
       "    <tr>\n",
       "      <th>Marketing Spend</th>\n",
       "      <td>0.724248</td>\n",
       "      <td>-0.032154</td>\n",
       "      <td>1.000000</td>\n",
       "      <td>0.747766</td>\n",
       "    </tr>\n",
       "    <tr>\n",
       "      <th>Profit</th>\n",
       "      <td>0.972900</td>\n",
       "      <td>0.200717</td>\n",
       "      <td>0.747766</td>\n",
       "      <td>1.000000</td>\n",
       "    </tr>\n",
       "  </tbody>\n",
       "</table>\n",
       "</div>"
      ],
      "text/plain": [
       "                 R&D Spend  Administration  Marketing Spend    Profit\n",
       "R&D Spend         1.000000        0.241955         0.724248  0.972900\n",
       "Administration    0.241955        1.000000        -0.032154  0.200717\n",
       "Marketing Spend   0.724248       -0.032154         1.000000  0.747766\n",
       "Profit            0.972900        0.200717         0.747766  1.000000"
      ]
     },
     "execution_count": 6,
     "metadata": {},
     "output_type": "execute_result"
    }
   ],
   "source": [
    "df50.drop([\"State\"],inplace=True,axis=1)\n",
    "df50.corr()"
   ]
  },
  {
   "cell_type": "markdown",
   "id": "a58679ec",
   "metadata": {},
   "source": [
    "As per the instructions we have to consider only two features from the dataset\n",
    "\n",
    "* Correlation of R&D soend and marketing spend is high.\n",
    "* Therefore, we are considering only R&D spend and Administration"
   ]
  },
  {
   "cell_type": "code",
   "execution_count": 7,
   "id": "94a3c8bd",
   "metadata": {},
   "outputs": [],
   "source": [
    "X = df50.iloc[:,:2]\n",
    "Y = df50[\"Profit\"]"
   ]
  },
  {
   "cell_type": "markdown",
   "id": "1bdb2438",
   "metadata": {},
   "source": [
    "### Using different learning rates to train model "
   ]
  },
  {
   "cell_type": "code",
   "execution_count": 8,
   "id": "f57a0e27",
   "metadata": {},
   "outputs": [
    {
     "name": "stdout",
     "output_type": "stream",
     "text": [
      "Training Completed with learning rate: 0.001\n",
      "Training Completed with learning rate: 0.01\n",
      "Training Completed with learning rate: 0.1\n"
     ]
    },
    {
     "data": {
      "image/png": "[encoded data removed]",
      "text/plain": [
       "<Figure size 640x480 with 1 Axes>"
      ]
     },
     "metadata": {},
     "output_type": "display_data"
    }
   ],
   "source": [
    "step_size = [0.001,0.01,0.1]\n",
    "for i in step_size:\n",
    "    MLR = Multiple_Linear_Regression(X,Y,step_size = i,iterations = 500)\n",
    "    MLR.gradient_descent()\n",
    "    prs=MLR.params()\n",
    "    plt.plot(prs)\n",
    "plt.legend([\"LR=0.001\",\"LR=0.01\",\"LR=0.1\"])\n",
    "plt.xlabel(\"Number of iterations\")\n",
    "plt.ylabel(\"Cost\")\n",
    "plt.title(\"cost at each iteration with different learning rates\")\n",
    "plt.show()"
   ]
  },
  {
   "cell_type": "markdown",
   "id": "b78f91a9",
   "metadata": {},
   "source": [
    "### Final Model with hyperparameters: Learning Rate = 0.1 and Iterations = 500"
   ]
  },
  {
   "cell_type": "code",
   "execution_count": 9,
   "id": "1b887d50",
   "metadata": {},
   "outputs": [
    {
     "name": "stdout",
     "output_type": "stream",
     "text": [
      "Training Completed with learning rate: 0.1\n"
     ]
    }
   ],
   "source": [
    "MLR = Multiple_Linear_Regression(X,Y,step_size = 0.1,iterations = 500)\n",
    "MLR.gradient_descent()"
   ]
  },
  {
   "cell_type": "code",
   "execution_count": 10,
   "id": "33252b9d",
   "metadata": {},
   "outputs": [
    {
     "data": {
      "image/png": "[encoded data removed]",
      "text/plain": [
       "<Figure size 640x480 with 1 Axes>"
      ]
     },
     "metadata": {},
     "output_type": "display_data"
    }
   ],
   "source": [
    "MLR.cost_plot()"
   ]
  },
  {
   "cell_type": "markdown",
   "id": "8f48828b",
   "metadata": {},
   "source": [
    "### Contour Plot"
   ]
  },
  {
   "cell_type": "code",
   "execution_count": 11,
   "id": "fa240c13",
   "metadata": {},
   "outputs": [
    {
     "data": {
      "image/png": "[encoded data removed]",
      "text/plain": [
       "<Figure size 640x480 with 1 Axes>"
      ]
     },
     "metadata": {},
     "output_type": "display_data"
    }
   ],
   "source": [
    "MLR.contours()"
   ]
  },
  {
   "cell_type": "markdown",
   "id": "ad0b99cd",
   "metadata": {},
   "source": [
    "#### Calculating Root Mean Squared Error"
   ]
  },
  {
   "cell_type": "code",
   "execution_count": 12,
   "id": "733b09ba",
   "metadata": {},
   "outputs": [
    {
     "name": "stdout",
     "output_type": "stream",
     "text": [
      "Root Mean Square Error: 9115.197927536368 \n"
     ]
    }
   ],
   "source": [
    "Y_pred= MLR.predict(X)\n",
    "error = RMSE(Y_pred,Y)\n",
    "print(f\"Root Mean Square Error: {error} \")"
   ]
  },
  {
   "cell_type": "markdown",
   "id": "73573696",
   "metadata": {},
   "source": [
    "#### Sklearn's Linear Regression Model and Result"
   ]
  },
  {
   "cell_type": "code",
   "execution_count": 13,
   "id": "55c1a1ea",
   "metadata": {},
   "outputs": [
    {
     "name": "stdout",
     "output_type": "stream",
     "text": [
      "Root Mean Square Error on Sklearn MLR: 55687.574795710054 \n"
     ]
    }
   ],
   "source": [
    "from sklearn.linear_model import LinearRegression\n",
    "MLRS = LinearRegression()\n",
    "MLRS.fit(X,Y)\n",
    "Y_preds= MLRS.predict(X)\n",
    "errors = RMSE(Y_preds,Y)\n",
    "print(f\"Root Mean Square Error on Sklearn MLR: {errors} \")"
   ]
  },
  {
   "cell_type": "markdown",
   "id": "b76ae37f",
   "metadata": {},
   "source": [
    "### Model Comparision"
   ]
  },
  {
   "cell_type": "markdown",
   "id": "182627d2",
   "metadata": {},
   "source": [
    "| Model | RMSE |\n",
    "| --- | --- |\n",
    "| Sklearn Linear Regression | 55687.57 |\n",
    "| Multiple Linear Regression (self) | 9115.19 |"
   ]
  },
  {
   "cell_type": "markdown",
   "id": "044a90a1",
   "metadata": {},
   "source": [
    "\n",
    "\n",
    "\n",
    "\n",
    "# Dataset: User_Data\n",
    "\n"
   ]
  },
  {
   "cell_type": "code",
   "execution_count": 14,
   "id": "bbb1c28b",
   "metadata": {},
   "outputs": [
    {
     "data": {
      "text/html": [
       "<div>\n",
       "<style scoped>\n",
       "    .dataframe tbody tr th:only-of-type {\n",
       "        vertical-align: middle;\n",
       "    }\n",
       "\n",
       "    .dataframe tbody tr th {\n",
       "        vertical-align: top;\n",
       "    }\n",
       "\n",
       "    .dataframe thead th {\n",
       "        text-align: right;\n",
       "    }\n",
       "</style>\n",
       "<table border=\"1\" class=\"dataframe\">\n",
       "  <thead>\n",
       "    <tr style=\"text-align: right;\">\n",
       "      <th></th>\n",
       "      <th>User ID</th>\n",
       "      <th>Gender</th>\n",
       "      <th>Age</th>\n",
       "      <th>EstimatedSalary</th>\n",
       "      <th>Purchased</th>\n",
       "    </tr>\n",
       "  </thead>\n",
       "  <tbody>\n",
       "    <tr>\n",
       "      <th>0</th>\n",
       "      <td>15624510</td>\n",
       "      <td>Male</td>\n",
       "      <td>19</td>\n",
       "      <td>19000</td>\n",
       "      <td>0</td>\n",
       "    </tr>\n",
       "    <tr>\n",
       "      <th>1</th>\n",
       "      <td>15810944</td>\n",
       "      <td>Male</td>\n",
       "      <td>35</td>\n",
       "      <td>20000</td>\n",
       "      <td>0</td>\n",
       "    </tr>\n",
       "    <tr>\n",
       "      <th>2</th>\n",
       "      <td>15668575</td>\n",
       "      <td>Female</td>\n",
       "      <td>26</td>\n",
       "      <td>43000</td>\n",
       "      <td>0</td>\n",
       "    </tr>\n",
       "    <tr>\n",
       "      <th>3</th>\n",
       "      <td>15603246</td>\n",
       "      <td>Female</td>\n",
       "      <td>27</td>\n",
       "      <td>57000</td>\n",
       "      <td>0</td>\n",
       "    </tr>\n",
       "    <tr>\n",
       "      <th>4</th>\n",
       "      <td>15804002</td>\n",
       "      <td>Male</td>\n",
       "      <td>19</td>\n",
       "      <td>76000</td>\n",
       "      <td>0</td>\n",
       "    </tr>\n",
       "  </tbody>\n",
       "</table>\n",
       "</div>"
      ],
      "text/plain": [
       "    User ID  Gender  Age  EstimatedSalary  Purchased\n",
       "0  15624510    Male   19            19000          0\n",
       "1  15810944    Male   35            20000          0\n",
       "2  15668575  Female   26            43000          0\n",
       "3  15603246  Female   27            57000          0\n",
       "4  15804002    Male   19            76000          0"
      ]
     },
     "execution_count": 14,
     "metadata": {},
     "output_type": "execute_result"
    }
   ],
   "source": [
    "df = pd.read_csv(\"User_Data.csv\")\n",
    "df.head()"
   ]
  },
  {
   "cell_type": "markdown",
   "id": "754779b6",
   "metadata": {},
   "source": [
    "### Data preprocessing and seperating dataset into features and labels "
   ]
  },
  {
   "cell_type": "code",
   "execution_count": 15,
   "id": "07a33df8",
   "metadata": {},
   "outputs": [],
   "source": [
    "# Label Encoding of feature (Gender)\n",
    "\n",
    "le = LabelEncoder()\n",
    "df[\"Gender\"]= le.fit_transform(df[\"Gender\"])"
   ]
  },
  {
   "cell_type": "code",
   "execution_count": 16,
   "id": "39c1f8d0",
   "metadata": {},
   "outputs": [
    {
     "data": {
      "text/html": [
       "<div>\n",
       "<style scoped>\n",
       "    .dataframe tbody tr th:only-of-type {\n",
       "        vertical-align: middle;\n",
       "    }\n",
       "\n",
       "    .dataframe tbody tr th {\n",
       "        vertical-align: top;\n",
       "    }\n",
       "\n",
       "    .dataframe thead th {\n",
       "        text-align: right;\n",
       "    }\n",
       "</style>\n",
       "<table border=\"1\" class=\"dataframe\">\n",
       "  <thead>\n",
       "    <tr style=\"text-align: right;\">\n",
       "      <th></th>\n",
       "      <th>User ID</th>\n",
       "      <th>Gender</th>\n",
       "      <th>Age</th>\n",
       "      <th>EstimatedSalary</th>\n",
       "      <th>Purchased</th>\n",
       "    </tr>\n",
       "  </thead>\n",
       "  <tbody>\n",
       "    <tr>\n",
       "      <th>0</th>\n",
       "      <td>15624510</td>\n",
       "      <td>1</td>\n",
       "      <td>19</td>\n",
       "      <td>19000</td>\n",
       "      <td>0</td>\n",
       "    </tr>\n",
       "    <tr>\n",
       "      <th>1</th>\n",
       "      <td>15810944</td>\n",
       "      <td>1</td>\n",
       "      <td>35</td>\n",
       "      <td>20000</td>\n",
       "      <td>0</td>\n",
       "    </tr>\n",
       "    <tr>\n",
       "      <th>2</th>\n",
       "      <td>15668575</td>\n",
       "      <td>0</td>\n",
       "      <td>26</td>\n",
       "      <td>43000</td>\n",
       "      <td>0</td>\n",
       "    </tr>\n",
       "    <tr>\n",
       "      <th>3</th>\n",
       "      <td>15603246</td>\n",
       "      <td>0</td>\n",
       "      <td>27</td>\n",
       "      <td>57000</td>\n",
       "      <td>0</td>\n",
       "    </tr>\n",
       "    <tr>\n",
       "      <th>4</th>\n",
       "      <td>15804002</td>\n",
       "      <td>1</td>\n",
       "      <td>19</td>\n",
       "      <td>76000</td>\n",
       "      <td>0</td>\n",
       "    </tr>\n",
       "  </tbody>\n",
       "</table>\n",
       "</div>"
      ],
      "text/plain": [
       "    User ID  Gender  Age  EstimatedSalary  Purchased\n",
       "0  15624510       1   19            19000          0\n",
       "1  15810944       1   35            20000          0\n",
       "2  15668575       0   26            43000          0\n",
       "3  15603246       0   27            57000          0\n",
       "4  15804002       1   19            76000          0"
      ]
     },
     "execution_count": 16,
     "metadata": {},
     "output_type": "execute_result"
    }
   ],
   "source": [
    "df.head()"
   ]
  },
  {
   "cell_type": "code",
   "execution_count": 17,
   "id": "a5257fb8",
   "metadata": {},
   "outputs": [
    {
     "data": {
      "text/html": [
       "<div>\n",
       "<style scoped>\n",
       "    .dataframe tbody tr th:only-of-type {\n",
       "        vertical-align: middle;\n",
       "    }\n",
       "\n",
       "    .dataframe tbody tr th {\n",
       "        vertical-align: top;\n",
       "    }\n",
       "\n",
       "    .dataframe thead th {\n",
       "        text-align: right;\n",
       "    }\n",
       "</style>\n",
       "<table border=\"1\" class=\"dataframe\">\n",
       "  <thead>\n",
       "    <tr style=\"text-align: right;\">\n",
       "      <th></th>\n",
       "      <th>Gender</th>\n",
       "      <th>Age</th>\n",
       "      <th>EstimatedSalary</th>\n",
       "      <th>Purchased</th>\n",
       "    </tr>\n",
       "  </thead>\n",
       "  <tbody>\n",
       "    <tr>\n",
       "      <th>Gender</th>\n",
       "      <td>1.000000</td>\n",
       "      <td>-0.073741</td>\n",
       "      <td>-0.060435</td>\n",
       "      <td>-0.042469</td>\n",
       "    </tr>\n",
       "    <tr>\n",
       "      <th>Age</th>\n",
       "      <td>-0.073741</td>\n",
       "      <td>1.000000</td>\n",
       "      <td>0.155238</td>\n",
       "      <td>0.622454</td>\n",
       "    </tr>\n",
       "    <tr>\n",
       "      <th>EstimatedSalary</th>\n",
       "      <td>-0.060435</td>\n",
       "      <td>0.155238</td>\n",
       "      <td>1.000000</td>\n",
       "      <td>0.362083</td>\n",
       "    </tr>\n",
       "    <tr>\n",
       "      <th>Purchased</th>\n",
       "      <td>-0.042469</td>\n",
       "      <td>0.622454</td>\n",
       "      <td>0.362083</td>\n",
       "      <td>1.000000</td>\n",
       "    </tr>\n",
       "  </tbody>\n",
       "</table>\n",
       "</div>"
      ],
      "text/plain": [
       "                   Gender       Age  EstimatedSalary  Purchased\n",
       "Gender           1.000000 -0.073741        -0.060435  -0.042469\n",
       "Age             -0.073741  1.000000         0.155238   0.622454\n",
       "EstimatedSalary -0.060435  0.155238         1.000000   0.362083\n",
       "Purchased       -0.042469  0.622454         0.362083   1.000000"
      ]
     },
     "execution_count": 17,
     "metadata": {},
     "output_type": "execute_result"
    }
   ],
   "source": [
    "df.drop([\"User ID\"],inplace=True,axis=1)\n",
    "df.corr()"
   ]
  },
  {
   "cell_type": "markdown",
   "id": "e77da4e7",
   "metadata": {},
   "source": [
    "* Here User ID is not useful. Therefore, we dropped it. \n",
    "* Gender seems to be less useful "
   ]
  },
  {
   "cell_type": "code",
   "execution_count": 18,
   "id": "e33e0916",
   "metadata": {},
   "outputs": [],
   "source": [
    "x= df.iloc[:,1:3]\n",
    "y= df.iloc[:,-1]"
   ]
  },
  {
   "cell_type": "markdown",
   "id": "9a661f88",
   "metadata": {},
   "source": [
    "### Training Logistic Regression Model  "
   ]
  },
  {
   "cell_type": "markdown",
   "id": "c142ca97",
   "metadata": {},
   "source": [
    "Hyperparameters: Iterations = 200 and Learning Rate = 0.1"
   ]
  },
  {
   "cell_type": "code",
   "execution_count": 19,
   "id": "b42c4c40",
   "metadata": {},
   "outputs": [],
   "source": [
    "LR = Logistic_Regression(x,y,2000,0.1)\n",
    "LR.gradient_descent()"
   ]
  },
  {
   "cell_type": "markdown",
   "id": "4e110a1f",
   "metadata": {},
   "source": [
    "### Classification Metrics"
   ]
  },
  {
   "cell_type": "code",
   "execution_count": 20,
   "id": "8c0ff32a",
   "metadata": {},
   "outputs": [
    {
     "name": "stdout",
     "output_type": "stream",
     "text": [
      "Accuracy of the model: 84.5\n",
      "Precision of the model: 82.92682926829268\n",
      "Recall of the model: 71.32867132867133\n",
      "F1 Score of the model: 76.69172932330828\n"
     ]
    }
   ],
   "source": [
    "y_pred = LR.predict(x)\n",
    "compute_metrics(y,y_pred)\n"
   ]
  },
  {
   "cell_type": "markdown",
   "id": "44ca0c89",
   "metadata": {},
   "source": [
    "### Sklearn's Logisitc Regression"
   ]
  },
  {
   "cell_type": "code",
   "execution_count": 21,
   "id": "b5380818",
   "metadata": {},
   "outputs": [
    {
     "name": "stdout",
     "output_type": "stream",
     "text": [
      "Accuracy of Sklearn's Logistic Regression: 64.25\n"
     ]
    }
   ],
   "source": [
    "from sklearn.linear_model import LogisticRegression\n",
    "from sklearn.metrics import accuracy_score\n",
    "LRS=LogisticRegression(max_iter=2000)\n",
    "LRS.fit(x,y)\n",
    "y_preds= LRS.predict(x)\n",
    "print(f\"Accuracy of Sklearn's Logistic Regression: {accuracy_score(y,y_preds)*100}\")\n"
   ]
  },
  {
   "cell_type": "markdown",
   "id": "a5e21fea",
   "metadata": {},
   "source": [
    "### Model Comparision"
   ]
  },
  {
   "cell_type": "markdown",
   "id": "2608e8fa",
   "metadata": {},
   "source": [
    "| Model | Accuracy |\n",
    "| --- | --- |\n",
    "| Sklearn Logistic Regression | 64.25 |\n",
    "| Logistic Regression (self) | 84.5 |"
   ]
  },
  {
   "cell_type": "markdown",
   "id": "59c610b4",
   "metadata": {},
   "source": [
    "### Classification Visualisation"
   ]
  },
  {
   "cell_type": "code",
   "execution_count": 22,
   "id": "aa714882",
   "metadata": {},
   "outputs": [
    {
     "data": {
      "image/png": "[encoded data removed]",
      "text/plain": [
       "<Figure size 1000x800 with 1 Axes>"
      ]
     },
     "metadata": {},
     "output_type": "display_data"
    }
   ],
   "source": [
    "LR.plot_boundary()"
   ]
  },
  {
   "cell_type": "markdown",
   "id": "d0490563",
   "metadata": {},
   "source": [
    "####  Here features are Age and Income.\n",
    "####  The values of the features are normalized. "
   ]
  },
  {
   "cell_type": "markdown",
   "id": "2e34ab46",
   "metadata": {},
   "source": [
    "### Confusion Matrix"
   ]
  },
  {
   "cell_type": "code",
   "execution_count": 23,
   "id": "b59385e2",
   "metadata": {},
   "outputs": [
    {
     "data": {
      "image/png": "[encoded data removed]",
      "text/plain": [
       "<Figure size 640x480 with 2 Axes>"
      ]
     },
     "metadata": {},
     "output_type": "display_data"
    }
   ],
   "source": [
    "from sklearn.metrics import confusion_matrix, ConfusionMatrixDisplay\n",
    "cm = confusion_matrix(y, y_pred)\n",
    "disp = ConfusionMatrixDisplay(confusion_matrix=cm)\n",
    "disp.plot()\n",
    "plt.show()"
   ]
  },
  {
   "cell_type": "markdown",
   "id": "44facc7d",
   "metadata": {},
   "source": [
    "* Considering only two features the classifer seperates classes properly to a good extent \n"
   ]
  },
  {
   "cell_type": "markdown",
   "id": "2d32b1c2",
   "metadata": {},
   "source": [
    "### Contour Plot"
   ]
  },
  {
   "cell_type": "code",
   "execution_count": 24,
   "id": "2c10fa46",
   "metadata": {
    "scrolled": true
   },
   "outputs": [
    {
     "data": {
      "image/png": "[encoded data removed]",
      "text/plain": [
       "<Figure size 640x480 with 1 Axes>"
      ]
     },
     "metadata": {},
     "output_type": "display_data"
    }
   ],
   "source": [
    "LR.contours()"
   ]
  },
  {
   "cell_type": "markdown",
   "id": "02d4ed2f",
   "metadata": {},
   "source": [
    "### |References|\n",
    "\n",
    "* Presentations from Deep Learning Lectures\n",
    "* Geeks for Geeks\n",
    "* Medium\n",
    "* Towards Data Science\n",
    "\n",
    "\n",
    "##### Note: Codes are not copied but articles were read to understand the concepts, especially for contour plotting multiple articles from above references were referred."
   ]
  }
 ],
 "metadata": {
  "kernelspec": {
   "display_name": "Python 3 (ipykernel)",
   "language": "python",
   "name": "python3"
  },
  "language_info": {
   "codemirror_mode": {
    "name": "ipython",
    "version": 3
   },
   "file_extension": ".py",
   "mimetype": "text/x-python",
   "name": "python",
   "nbconvert_exporter": "python",
   "pygments_lexer": "ipython3",
   "version": "3.9.13"
  }
 },
 "nbformat": 4,
 "nbformat_minor": 5
}
